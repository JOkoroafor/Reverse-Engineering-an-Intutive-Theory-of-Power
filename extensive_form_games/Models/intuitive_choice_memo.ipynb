{
 "cells": [
  {
   "cell_type": "code",
   "execution_count": 2,
   "metadata": {},
   "outputs": [],
   "source": [
    "from memo import memo\n",
    "from enum import IntEnum"
   ]
  },
  {
   "cell_type": "markdown",
   "metadata": {},
   "source": []
  },
  {
   "cell_type": "code",
   "execution_count": 4,
   "metadata": {},
   "outputs": [],
   "source": [
    "class p1_choice(IntEnum):\n",
    "    IN = 0\n",
    "    OUT = 1\n",
    "\n",
    "class p2_choice(IntEnum):\n",
    "    LEFT = 0\n",
    "    RIGHT = 1\n",
    "    "
   ]
  },
  {
   "cell_type": "code",
   "execution_count": 5,
   "metadata": {},
   "outputs": [],
   "source": [
    "@memo\n",
    "def game[a: p1_choice](beta):\n",
    "    p1:chooses(a in p1_choice, wpp = exp(beta*(5 if a==1 else imagine[\n",
    "        p2:chooses(a in p2_choice, wpp = exp(beta*(10 if a==0 else 5))),\n",
    "        E[0 if p2.a == 0 else 10]\n",
    "    ]))) \n",
    "    return Pr[p1.a == a]"
   ]
  },
  {
   "cell_type": "code",
   "execution_count": 8,
   "metadata": {},
   "outputs": [
    {
     "name": "stdout",
     "output_type": "stream",
     "text": [
      "+--------------+----------------------+\n",
      "| a: p1_choice | game                 |\n",
      "+--------------+----------------------+\n",
      "| IN           | 0.22586046159267426  |\n",
      "| OUT          | 0.7741395831108093   |\n",
      "+--------------+----------------------+\n"
     ]
    },
    {
     "data": {
      "text/plain": [
       "Array([0.22586046, 0.7741396 ], dtype=float32)"
      ]
     },
     "execution_count": 8,
     "metadata": {},
     "output_type": "execute_result"
    }
   ],
   "source": [
    "game(0.35, print_table=True)"
   ]
  },
  {
   "cell_type": "code",
   "execution_count": null,
   "metadata": {},
   "outputs": [],
   "source": []
  }
 ],
 "metadata": {
  "kernelspec": {
   "display_name": "Python 3",
   "language": "python",
   "name": "python3"
  },
  "language_info": {
   "codemirror_mode": {
    "name": "ipython",
    "version": 3
   },
   "file_extension": ".py",
   "mimetype": "text/x-python",
   "name": "python",
   "nbconvert_exporter": "python",
   "pygments_lexer": "ipython3",
   "version": "3.13.0"
  },
  "orig_nbformat": 4
 },
 "nbformat": 4,
 "nbformat_minor": 2
}
